{
 "cells": [
  {
   "cell_type": "code",
   "execution_count": null,
   "metadata": {},
   "outputs": [],
   "source": [
    "from pulp import LpMaximize, LpProblem, LpVariable, lpSum, LpStatus, value\n",
    "import numpy as np\n",
    "import solutions"
   ]
  },
  {
   "cell_type": "code",
   "execution_count": null,
   "metadata": {},
   "outputs": [],
   "source": [
    "# monkeypatching solve method to display solver output in notebook\n",
    "\n",
    "import monkeypatch"
   ]
  },
  {
   "cell_type": "code",
   "execution_count": null,
   "metadata": {},
   "outputs": [],
   "source": [
    "# for readability.  Cards are identified by a number, as opposed to a suit and rank\n",
    "\n",
    "CARDS = POSITIONS = range(52)"
   ]
  },
  {
   "cell_type": "code",
   "execution_count": null,
   "metadata": {},
   "outputs": [],
   "source": [
    "# Creating a new maximisation problem\n",
    "prob = LpProblem(\"Card Shuffle Problem\", LpMaximize)\n"
   ]
  },
  {
   "cell_type": "code",
   "execution_count": null,
   "metadata": {},
   "outputs": [],
   "source": [
    "# The decision variables are created\n",
    "choices = LpVariable.dicts(\n",
    "    name=\"Choice\",\n",
    "    indices=(CARDS, POSITIONS),\n",
    "    cat=\"Binary\",\n",
    ")\n",
    "\n",
    "# choices[4, 10] is a binary variable indicating \n",
    "# if card 4 is assigned to 10th position"
   ]
  },
  {
   "cell_type": "markdown",
   "metadata": {},
   "source": [
    "### Exercise"
   ]
  },
  {
   "cell_type": "code",
   "execution_count": null,
   "metadata": {},
   "outputs": [],
   "source": [
    "# Constraints: Each card in exactly one position\n",
    "\n",
    "\n",
    "# Constraints: Each position has exactly one card\n",
    "\n",
    "\n"
   ]
  },
  {
   "cell_type": "code",
   "execution_count": null,
   "metadata": {},
   "outputs": [],
   "source": [
    "# Whiskas example constraint, for reference\n",
    "\n",
    "# prob += (\n",
    "#     lpSum(data.loc[ingredient, \"protein\"]*ingredient_vars[ingredient] for ingredient in ingredients) >= 8.0,\n",
    "#     \"Protein Requirement\",\n",
    "# )"
   ]
  },
  {
   "cell_type": "code",
   "execution_count": null,
   "metadata": {},
   "outputs": [],
   "source": [
    "# only uncomment if you need the answer to the above\n",
    "\n",
    "#print(solutions.card_constraint1)"
   ]
  },
  {
   "cell_type": "code",
   "execution_count": null,
   "metadata": {},
   "outputs": [],
   "source": [
    "# only uncomment if you need the answer to the above\n",
    "\n",
    "#print(solutions.card_constraint2)"
   ]
  },
  {
   "cell_type": "code",
   "execution_count": null,
   "metadata": {},
   "outputs": [],
   "source": [
    "#create random scores for each card/position combination\n",
    "obj_coeffs = np.random.random(size=(len(CARDS), len(POSITIONS)))\n",
    "\n",
    "# obj_coeffs[c][p] is the score recieved from placing card c in position p\n",
    "\n",
    "# add objective\n",
    "prob += lpSum(obj_coeffs[c][p]*choices[c][p] for c in CARDS for p in POSITIONS)"
   ]
  },
  {
   "cell_type": "code",
   "execution_count": null,
   "metadata": {},
   "outputs": [],
   "source": [
    "prob.solve()"
   ]
  },
  {
   "cell_type": "code",
   "execution_count": null,
   "metadata": {},
   "outputs": [],
   "source": [
    "print(\"Status:\", LpStatus[prob.status])"
   ]
  },
  {
   "cell_type": "code",
   "execution_count": null,
   "metadata": {},
   "outputs": [],
   "source": [
    "order = []\n",
    "for p in POSITIONS:\n",
    "    for c in CARDS:\n",
    "        if choices[c][p].varValue > 0.5:  # why 0.5?\n",
    "            order.append(str(c))\n",
    "\n",
    "\" \".join(order)"
   ]
  },
  {
   "cell_type": "code",
   "execution_count": null,
   "metadata": {},
   "outputs": [],
   "source": []
  }
 ],
 "metadata": {
  "kernelspec": {
   "display_name": "Python 3.9.0 ('awg-mo-qlWmYI5f-py3.9')",
   "language": "python",
   "name": "python3"
  },
  "language_info": {
   "codemirror_mode": {
    "name": "ipython",
    "version": 3
   },
   "file_extension": ".py",
   "mimetype": "text/x-python",
   "name": "python",
   "nbconvert_exporter": "python",
   "pygments_lexer": "ipython3",
   "version": "3.9.0"
  },
  "orig_nbformat": 4,
  "vscode": {
   "interpreter": {
    "hash": "e785a56662838ccea361e2721d005d6af7bf9e6198fcb1366ad0ed1d9ecdf1aa"
   }
  }
 },
 "nbformat": 4,
 "nbformat_minor": 2
}
