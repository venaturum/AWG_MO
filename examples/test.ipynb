{
 "cells": [
  {
   "cell_type": "code",
   "execution_count": null,
   "metadata": {},
   "outputs": [],
   "source": [
    "from pulp import *"
   ]
  },
  {
   "cell_type": "code",
   "execution_count": null,
   "metadata": {},
   "outputs": [],
   "source": [
    "prob = LpProblem(\"test1\", LpMinimize)\n",
    "\n",
    "# Variables\n",
    "# 0 <= x <= 4\n",
    "x = LpVariable(\"x\", 0, 4)\n",
    "# -1 <= y <= 1\n",
    "y = LpVariable(\"y\", -1, 1)\n",
    "# 0 <= z\n",
    "z = LpVariable(\"z\", 0)\n",
    "# Use None for +/- Infinity, i.e. z <= 0 -> LpVariable(\"z\", None, 0)\n",
    "\n",
    "# Objective\n",
    "prob += x + 4 * y + 9 * z, \"obj\"\n",
    "# (the name at the end is facultative)\n",
    "\n",
    "# Constraints\n",
    "prob += x + y <= 5, \"c1\"\n",
    "prob += x + z >= 10, \"c2\"\n",
    "prob += -y + z == 7, \"c3\""
   ]
  },
  {
   "cell_type": "code",
   "execution_count": null,
   "metadata": {},
   "outputs": [],
   "source": [
    "prob.solve()"
   ]
  },
  {
   "cell_type": "code",
   "execution_count": null,
   "metadata": {},
   "outputs": [],
   "source": [
    "for v in prob.variables():\n",
    "    print(v.name, \"=\", v.varValue)"
   ]
  },
  {
   "cell_type": "code",
   "execution_count": null,
   "metadata": {},
   "outputs": [],
   "source": []
  }
 ],
 "metadata": {
  "kernelspec": {
   "display_name": "Python 3.9.0 ('awg-mo-qlWmYI5f-py3.9')",
   "language": "python",
   "name": "python3"
  },
  "language_info": {
   "codemirror_mode": {
    "name": "ipython",
    "version": 3
   },
   "file_extension": ".py",
   "mimetype": "text/x-python",
   "name": "python",
   "nbconvert_exporter": "python",
   "pygments_lexer": "ipython3",
   "version": "3.9.0"
  },
  "orig_nbformat": 4,
  "vscode": {
   "interpreter": {
    "hash": "e785a56662838ccea361e2721d005d6af7bf9e6198fcb1366ad0ed1d9ecdf1aa"
   }
  }
 },
 "nbformat": 4,
 "nbformat_minor": 2
}
