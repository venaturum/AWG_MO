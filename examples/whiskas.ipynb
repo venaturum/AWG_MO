{
 "cells": [
  {
   "cell_type": "code",
   "execution_count": null,
   "metadata": {},
   "outputs": [],
   "source": [
    "from pulp import LpMinimize, LpProblem, LpVariable, lpSum, LpStatus, value\n",
    "import pandas as pd"
   ]
  },
  {
   "cell_type": "code",
   "execution_count": null,
   "metadata": {},
   "outputs": [],
   "source": [
    "# monkeypatching solve method to display solver output in notebook\n",
    "\n",
    "import monkeypatch"
   ]
  },
  {
   "cell_type": "code",
   "execution_count": null,
   "metadata": {},
   "outputs": [],
   "source": [
    "data = pd.DataFrame(\n",
    "    index = [\"chicken\", \"beef\", \"mutton\", \"rice\", \"wheat\", \"gel\"],\n",
    "    data = {\n",
    "        \"protein\": [0.1, 0.2, 0.15, 0, 0.04, 0],\n",
    "        \"fat\": [0.08, 0.1, 0.11, 0.01, 0.01, 0],\n",
    "        \"fibre\": [0.001, 0.005, 0.003, 0.1, 0.15, 0],\n",
    "        \"salt\": [0.002, 0.005, 0.007, 0.002, 0.008, 0],\n",
    "        \"cost\": [0.013, 0.008, 0.01, 0.002, 0.005, 0.001],\n",
    "    }\n",
    ")\n",
    "ingredients = data.index  # for readability\n",
    "data\n"
   ]
  },
  {
   "cell_type": "code",
   "execution_count": null,
   "metadata": {},
   "outputs": [],
   "source": [
    "# Creating a new minimisation problem\n",
    "\n",
    "prob = LpProblem(\"The Whiskas Problem\", LpMinimize)\n"
   ]
  },
  {
   "cell_type": "code",
   "execution_count": null,
   "metadata": {},
   "outputs": [],
   "source": [
    "# Creating variables\n",
    "\n",
    "ingredient_vars = LpVariable.dicts(\n",
    "    name=\"Ingredients\",\n",
    "    indices = ingredients,\n",
    "    lowBound=0,\n",
    ")"
   ]
  },
  {
   "cell_type": "code",
   "execution_count": null,
   "metadata": {},
   "outputs": [],
   "source": [
    "# This cell is equivalent to the one below\n",
    "\n",
    "# objective = (\n",
    "#     data.loc[\"chicken\", \"cost\"] * ingredient_vars[\"chicken\"]\n",
    "#     + data.loc[\"beef\", \"cost\"] * ingredient_vars[\"beef\"]\n",
    "#     + data.loc[\"mutton\", \"cost\"] * ingredient_vars[\"mutton\"]\n",
    "#     + data.loc[\"rice\", \"cost\"] * ingredient_vars[\"rice\"]\n",
    "#     + data.loc[\"wheat\", \"cost\"] * ingredient_vars[\"wheat\"]\n",
    "#     + data.loc[\"gel\", \"cost\"] * ingredient_vars[\"gel\"]\n",
    "# )\n",
    "\n",
    "# prob += objective, \"Total cost of ingredients per 100g\"\n"
   ]
  },
  {
   "cell_type": "code",
   "execution_count": null,
   "metadata": {},
   "outputs": [],
   "source": [
    "# Adding the objective (the total cost) to the problem\n",
    "\n",
    "prob += (\n",
    "    lpSum(data.loc[ingredient, \"cost\"]*ingredient_vars[ingredient] for ingredient in ingredients),\n",
    "    \"Total cost of ingredients per 100g\"\n",
    ")"
   ]
  },
  {
   "cell_type": "code",
   "execution_count": null,
   "metadata": {},
   "outputs": [],
   "source": [
    "# Adding quantity constraint to the problem\n",
    "\n",
    "prob += lpSum(ingredient_vars[ingredient] for ingredient in ingredients) == 100, \"Total equals 100g\""
   ]
  },
  {
   "cell_type": "code",
   "execution_count": null,
   "metadata": {},
   "outputs": [],
   "source": [
    "# Adding macronutrient constraints to the problem\n",
    "\n",
    "prob += (\n",
    "    lpSum(data.loc[ingredient, \"protein\"]*ingredient_vars[ingredient] for ingredient in ingredients) >= 8.0,\n",
    "    \"Protein Requirement\",\n",
    ")\n",
    "\n",
    "prob += (\n",
    "    lpSum(data.loc[ingredient, \"fat\"]*ingredient_vars[ingredient] for ingredient in ingredients) >= 6.0,\n",
    "    \"Fat Requirement\",\n",
    ")\n",
    "\n",
    "prob += (\n",
    "    lpSum(data.loc[ingredient, \"fibre\"]*ingredient_vars[ingredient] for ingredient in ingredients) <= 2.0,\n",
    "    \"Fibre Requirement\",\n",
    ")\n",
    "\n",
    "prob += (\n",
    "    lpSum(data.loc[ingredient, \"salt\"]*ingredient_vars[ingredient] for ingredient in ingredients) <= 0.4,\n",
    "    \"Salt Requirement\",\n",
    ")"
   ]
  },
  {
   "cell_type": "code",
   "execution_count": null,
   "metadata": {},
   "outputs": [],
   "source": [
    "prob.solve()"
   ]
  },
  {
   "cell_type": "code",
   "execution_count": null,
   "metadata": {},
   "outputs": [],
   "source": [
    "print(\"Status:\", LpStatus[prob.status])"
   ]
  },
  {
   "cell_type": "code",
   "execution_count": null,
   "metadata": {},
   "outputs": [],
   "source": [
    "for v in prob.variables():\n",
    "    print(v.name, \"=\", v.varValue)"
   ]
  },
  {
   "cell_type": "code",
   "execution_count": null,
   "metadata": {},
   "outputs": [],
   "source": [
    "print(\"Total Cost of Ingredients per can = \", value(prob.objective))"
   ]
  }
 ],
 "metadata": {
  "kernelspec": {
   "display_name": "Python 3.9.0 ('awg-mo-qlWmYI5f-py3.9')",
   "language": "python",
   "name": "python3"
  },
  "language_info": {
   "codemirror_mode": {
    "name": "ipython",
    "version": 3
   },
   "file_extension": ".py",
   "mimetype": "text/x-python",
   "name": "python",
   "nbconvert_exporter": "python",
   "pygments_lexer": "ipython3",
   "version": "3.9.0"
  },
  "orig_nbformat": 4,
  "vscode": {
   "interpreter": {
    "hash": "e785a56662838ccea361e2721d005d6af7bf9e6198fcb1366ad0ed1d9ecdf1aa"
   }
  }
 },
 "nbformat": 4,
 "nbformat_minor": 2
}
